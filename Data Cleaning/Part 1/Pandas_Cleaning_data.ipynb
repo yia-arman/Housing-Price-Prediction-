{
 "cells": [
  {
   "cell_type": "markdown",
   "id": "6a16831b",
   "metadata": {},
   "source": [
    "### Pandas Tutorial 1\n",
    "    - reading excel file or CSV\n",
    "    - Getting rows and coloumns \n",
    "    - Droping rows and Column \n",
    "    - Chnaging column names \n",
    "    - Reseting Index"
   ]
  },
  {
   "cell_type": "code",
   "execution_count": 1,
   "id": "080e97b6",
   "metadata": {},
   "outputs": [],
   "source": [
    "import pandas as pd"
   ]
  },
  {
   "cell_type": "code",
   "execution_count": 14,
   "id": "6a2cb428",
   "metadata": {},
   "outputs": [],
   "source": [
    "df = pd.read_excel('HPI_PO_monthly_hist.xls')"
   ]
  },
  {
   "cell_type": "code",
   "execution_count": 15,
   "id": "9e580c7c",
   "metadata": {},
   "outputs": [],
   "source": [
    "df = df.drop(df.index[:2])"
   ]
  },
  {
   "cell_type": "code",
   "execution_count": null,
   "id": "6ac51b05",
   "metadata": {},
   "outputs": [],
   "source": []
  },
  {
   "cell_type": "code",
   "execution_count": 16,
   "id": "ed7c0a5e",
   "metadata": {},
   "outputs": [],
   "source": [
    "df.drop(df.iloc[:, 1:20], axis=1, inplace=True)"
   ]
  },
  {
   "cell_type": "code",
   "execution_count": 18,
   "id": "04924578",
   "metadata": {},
   "outputs": [],
   "source": [
    "df.columns = df.iloc[0]"
   ]
  },
  {
   "cell_type": "code",
   "execution_count": 20,
   "id": "5caf291f",
   "metadata": {},
   "outputs": [],
   "source": [
    "df = df.drop(df.index[:2])"
   ]
  },
  {
   "cell_type": "code",
   "execution_count": 22,
   "id": "c018eede",
   "metadata": {},
   "outputs": [],
   "source": [
    "df = df.reset_index(drop=True)"
   ]
  },
  {
   "cell_type": "code",
   "execution_count": 30,
   "id": "757104d0",
   "metadata": {},
   "outputs": [],
   "source": [
    "df.columns.name = df.index.name\n",
    "df.index.name = None"
   ]
  },
  {
   "cell_type": "code",
   "execution_count": 31,
   "id": "d1c6714d",
   "metadata": {},
   "outputs": [
    {
     "data": {
      "text/html": [
       "<div>\n",
       "<style scoped>\n",
       "    .dataframe tbody tr th:only-of-type {\n",
       "        vertical-align: middle;\n",
       "    }\n",
       "\n",
       "    .dataframe tbody tr th {\n",
       "        vertical-align: top;\n",
       "    }\n",
       "\n",
       "    .dataframe thead th {\n",
       "        text-align: right;\n",
       "    }\n",
       "</style>\n",
       "<table border=\"1\" class=\"dataframe\">\n",
       "  <thead>\n",
       "    <tr style=\"text-align: right;\">\n",
       "      <th></th>\n",
       "      <th>Month</th>\n",
       "      <th>USA\\n\\n(SA)</th>\n",
       "    </tr>\n",
       "  </thead>\n",
       "  <tbody>\n",
       "    <tr>\n",
       "      <th>0</th>\n",
       "      <td>1991-01-01 00:00:00</td>\n",
       "      <td>100</td>\n",
       "    </tr>\n",
       "    <tr>\n",
       "      <th>1</th>\n",
       "      <td>1991-02-01 00:00:00</td>\n",
       "      <td>100.44</td>\n",
       "    </tr>\n",
       "    <tr>\n",
       "      <th>2</th>\n",
       "      <td>1991-03-01 00:00:00</td>\n",
       "      <td>100.48</td>\n",
       "    </tr>\n",
       "    <tr>\n",
       "      <th>3</th>\n",
       "      <td>1991-04-01 00:00:00</td>\n",
       "      <td>100.33</td>\n",
       "    </tr>\n",
       "    <tr>\n",
       "      <th>4</th>\n",
       "      <td>1991-05-01 00:00:00</td>\n",
       "      <td>100.39</td>\n",
       "    </tr>\n",
       "    <tr>\n",
       "      <th>...</th>\n",
       "      <td>...</td>\n",
       "      <td>...</td>\n",
       "    </tr>\n",
       "    <tr>\n",
       "      <th>379</th>\n",
       "      <td>2022-08-01 00:00:00</td>\n",
       "      <td>391.81</td>\n",
       "    </tr>\n",
       "    <tr>\n",
       "      <th>380</th>\n",
       "      <td>2022-09-01 00:00:00</td>\n",
       "      <td>392.72</td>\n",
       "    </tr>\n",
       "    <tr>\n",
       "      <th>381</th>\n",
       "      <td>2022-10-01 00:00:00</td>\n",
       "      <td>392.9</td>\n",
       "    </tr>\n",
       "    <tr>\n",
       "      <th>382</th>\n",
       "      <td>2022-11-01 00:00:00</td>\n",
       "      <td>392.43</td>\n",
       "    </tr>\n",
       "    <tr>\n",
       "      <th>383</th>\n",
       "      <td>2022-12-01 00:00:00</td>\n",
       "      <td>392.05</td>\n",
       "    </tr>\n",
       "  </tbody>\n",
       "</table>\n",
       "<p>384 rows × 2 columns</p>\n",
       "</div>"
      ],
      "text/plain": [
       "                   Month USA\\n\\n(SA)\n",
       "0    1991-01-01 00:00:00         100\n",
       "1    1991-02-01 00:00:00      100.44\n",
       "2    1991-03-01 00:00:00      100.48\n",
       "3    1991-04-01 00:00:00      100.33\n",
       "4    1991-05-01 00:00:00      100.39\n",
       "..                   ...         ...\n",
       "379  2022-08-01 00:00:00      391.81\n",
       "380  2022-09-01 00:00:00      392.72\n",
       "381  2022-10-01 00:00:00       392.9\n",
       "382  2022-11-01 00:00:00      392.43\n",
       "383  2022-12-01 00:00:00      392.05\n",
       "\n",
       "[384 rows x 2 columns]"
      ]
     },
     "execution_count": 31,
     "metadata": {},
     "output_type": "execute_result"
    }
   ],
   "source": [
    "df"
   ]
  },
  {
   "cell_type": "code",
   "execution_count": null,
   "id": "d5c05abb",
   "metadata": {},
   "outputs": [],
   "source": []
  }
 ],
 "metadata": {
  "kernelspec": {
   "display_name": "Python 3 (ipykernel)",
   "language": "python",
   "name": "python3"
  },
  "language_info": {
   "codemirror_mode": {
    "name": "ipython",
    "version": 3
   },
   "file_extension": ".py",
   "mimetype": "text/x-python",
   "name": "python",
   "nbconvert_exporter": "python",
   "pygments_lexer": "ipython3",
   "version": "3.9.12"
  }
 },
 "nbformat": 4,
 "nbformat_minor": 5
}
